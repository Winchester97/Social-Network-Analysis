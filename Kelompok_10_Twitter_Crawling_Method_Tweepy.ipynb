{
  "nbformat": 4,
  "nbformat_minor": 0,
  "metadata": {
    "colab": {
      "name": "Kelompok 10_Twitter Crawling Method - Tweepy.ipynb",
      "provenance": [],
      "collapsed_sections": [],
      "toc_visible": true
    },
    "kernelspec": {
      "display_name": "Python 3",
      "language": "python",
      "name": "python3"
    },
    "language_info": {
      "codemirror_mode": {
        "name": "ipython",
        "version": 3
      },
      "file_extension": ".py",
      "mimetype": "text/x-python",
      "name": "python",
      "nbconvert_exporter": "python",
      "pygments_lexer": "ipython3",
      "version": "3.7.4"
    }
  },
  "cells": [
    {
      "cell_type": "code",
      "metadata": {
        "id": "tcxZpNOUDxqZ"
      },
      "source": [
        "import tweepy\n",
        "import csv\n",
        "import pandas as pd"
      ],
      "execution_count": null,
      "outputs": []
    },
    {
      "cell_type": "code",
      "metadata": {
        "id": "I_30PE-1PED7"
      },
      "source": [
        "#df.drop(df.index, inplace=True)"
      ],
      "execution_count": null,
      "outputs": []
    },
    {
      "cell_type": "markdown",
      "metadata": {
        "id": "whIUByftD7st"
      },
      "source": [
        "#TOKEN TWITTER API DEVELOPER"
      ]
    },
    {
      "cell_type": "code",
      "metadata": {
        "id": "0QozIeSHDxqy"
      },
      "source": [
        "access_token = \"---\"\n",
        "access_token_secret = \"---\"\n",
        "api_key = \"---\"\n",
        "api_key_secret = \"---\""
      ],
      "execution_count": null,
      "outputs": []
    },
    {
      "cell_type": "markdown",
      "metadata": {
        "id": "afz8TKLnEFB8"
      },
      "source": [
        "# KEYWORD"
      ]
    },
    {
      "cell_type": "code",
      "metadata": {
        "id": "8_pIYvAPDxrF"
      },
      "source": [
        "auth = tweepy.OAuthHandler(api_key,api_key_secret)\n",
        "auth.set_access_token(access_token,access_token_secret)\n",
        "api = tweepy.API(auth,wait_on_rate_limit = True)\n",
        "search_key = \"wisata\" #/ \"liburan\""
      ],
      "execution_count": null,
      "outputs": []
    },
    {
      "cell_type": "markdown",
      "metadata": {
        "id": "0Emd8G58ELZ_"
      },
      "source": [
        "#Create csv file dengan nama \"Keyword\"_Crawl.csv"
      ]
    },
    {
      "cell_type": "code",
      "metadata": {
        "id": "2n7Xfk6KEdVP"
      },
      "source": [
        "dictTweet={}\n",
        "id = []\n",
        "from_user = []\n",
        "text = []\n",
        "created_at = []\n",
        "time = []\n",
        "in_reply_to_user_id = []\n",
        "user_followers_count = []\n",
        "friends_count = []\n",
        "\n",
        "i=0\n",
        "\n",
        "#Set rentang waktu max 7 Hari\n",
        "#Crawl limit = 18.000 tweets/Minute\n",
        "for tweet in tweepy.Cursor(api.search,q=search_key,count=1000,lang = \"id\", since = \"2021-6-1\",until=\"2021-6-9\").items(15000):\n",
        "  id.append(tweet.user.id)                                                  \n",
        "  from_user.append(tweet.user.screen_name)\n",
        "  text.append(tweet.text)\n",
        "  created_at.append(tweet.created_at)\n",
        "  time.append(str(created_at[i]))\n",
        "  in_reply_to_user_id.append(tweet.in_reply_to_user_id_str)\n",
        "  user_followers_count.append(tweet.user.followers_count)\n",
        "  friends_count.append(tweet.user.friends_count)\n",
        "\n",
        "dictTweet = {\n",
        "    \"id_str\":id,\n",
        "    \"from_user\":from_user,\n",
        "    \"text\":text,\n",
        "    \"created_at\":created_at,\n",
        "    \"time\":time,\n",
        "    'in_reply_to_user_id':in_reply_to_user_id,\n",
        "    'user_followers_count': user_followers_count,\n",
        "    'friends_count':friends_count\n",
        "    }"
      ],
      "execution_count": null,
      "outputs": []
    },
    {
      "cell_type": "markdown",
      "metadata": {
        "id": "x4-TIQcAm61W"
      },
      "source": [
        "#Konversi Datatype Dict to DataFrame"
      ]
    },
    {
      "cell_type": "code",
      "metadata": {
        "id": "XaSx7g1chk4i"
      },
      "source": [
        "df = pd.DataFrame(dictTweet,columns=[\n",
        "                                     'id_str',\n",
        "                                     'from_user',\n",
        "                                     'text',\n",
        "                                     'created_at',\n",
        "                                     'time',\n",
        "                                     'in_reply_to_user_id',\n",
        "                                     'user_followers_count',\n",
        "                                     'friends_count'\n",
        "])"
      ],
      "execution_count": null,
      "outputs": []
    },
    {
      "cell_type": "markdown",
      "metadata": {
        "id": "LFWhotqDPCLp"
      },
      "source": [
        "id_str,from_user,text,created_at,time,geo_coordinates,user_lang,in_reply_to_user_id_str,in_reply_to_screen_name,from_user_id_str,in_reply_to_status_id_str,source,profile_image_url,user_followers_count,user_friends_count,user_location,status_url,entities_str"
      ]
    },
    {
      "cell_type": "code",
      "metadata": {
        "colab": {
          "base_uri": "https://localhost:8080/",
          "height": 321
        },
        "id": "_l0ZyyHez6BS",
        "outputId": "d5f6eee9-50bb-4615-f69d-1db5fe8d8761"
      },
      "source": [
        "df.head()"
      ],
      "execution_count": null,
      "outputs": [
        {
          "output_type": "execute_result",
          "data": {
            "text/html": [
              "<div>\n",
              "<style scoped>\n",
              "    .dataframe tbody tr th:only-of-type {\n",
              "        vertical-align: middle;\n",
              "    }\n",
              "\n",
              "    .dataframe tbody tr th {\n",
              "        vertical-align: top;\n",
              "    }\n",
              "\n",
              "    .dataframe thead th {\n",
              "        text-align: right;\n",
              "    }\n",
              "</style>\n",
              "<table border=\"1\" class=\"dataframe\">\n",
              "  <thead>\n",
              "    <tr style=\"text-align: right;\">\n",
              "      <th></th>\n",
              "      <th>id_str</th>\n",
              "      <th>from_user</th>\n",
              "      <th>text</th>\n",
              "      <th>created_at</th>\n",
              "      <th>time</th>\n",
              "      <th>in_reply_to_user_id</th>\n",
              "      <th>user_followers_count</th>\n",
              "      <th>friends_count</th>\n",
              "    </tr>\n",
              "  </thead>\n",
              "  <tbody>\n",
              "    <tr>\n",
              "      <th>0</th>\n",
              "      <td>3266952709</td>\n",
              "      <td>LiBurAN_YuuK</td>\n",
              "      <td>ada lagi tempat LiBurAN yg baru di jogja https...</td>\n",
              "      <td>2021-06-08 23:59:19</td>\n",
              "      <td>2021-06-08 23:59:19</td>\n",
              "      <td>None</td>\n",
              "      <td>262</td>\n",
              "      <td>587</td>\n",
              "    </tr>\n",
              "    <tr>\n",
              "      <th>1</th>\n",
              "      <td>131114492</td>\n",
              "      <td>heavensbacteria</td>\n",
              "      <td>2019 - Bersantai di Kawasan Wisata Rumah Alam ...</td>\n",
              "      <td>2021-06-08 23:59:13</td>\n",
              "      <td>2021-06-08 23:59:19</td>\n",
              "      <td>None</td>\n",
              "      <td>156</td>\n",
              "      <td>443</td>\n",
              "    </tr>\n",
              "    <tr>\n",
              "      <th>2</th>\n",
              "      <td>494551877</td>\n",
              "      <td>zeentravel</td>\n",
              "      <td>Baru saja mengirim foto @ Kota Wisata Batu htt...</td>\n",
              "      <td>2021-06-08 23:58:43</td>\n",
              "      <td>2021-06-08 23:59:19</td>\n",
              "      <td>None</td>\n",
              "      <td>247</td>\n",
              "      <td>246</td>\n",
              "    </tr>\n",
              "    <tr>\n",
              "      <th>3</th>\n",
              "      <td>494551877</td>\n",
              "      <td>zeentravel</td>\n",
              "      <td>Baru saja mengirim foto @ Kota Wisata Batu htt...</td>\n",
              "      <td>2021-06-08 23:57:47</td>\n",
              "      <td>2021-06-08 23:59:19</td>\n",
              "      <td>None</td>\n",
              "      <td>247</td>\n",
              "      <td>246</td>\n",
              "    </tr>\n",
              "    <tr>\n",
              "      <th>4</th>\n",
              "      <td>1058682229168103427</td>\n",
              "      <td>YoyokSubandriy3</td>\n",
              "      <td>RT @KemenkesRI: Kenaikan tinggi pasca arus bal...</td>\n",
              "      <td>2021-06-08 23:57:10</td>\n",
              "      <td>2021-06-08 23:59:19</td>\n",
              "      <td>None</td>\n",
              "      <td>1672</td>\n",
              "      <td>1547</td>\n",
              "    </tr>\n",
              "  </tbody>\n",
              "</table>\n",
              "</div>"
            ],
            "text/plain": [
              "                id_str        from_user  ... user_followers_count friends_count\n",
              "0           3266952709     LiBurAN_YuuK  ...                  262           587\n",
              "1            131114492  heavensbacteria  ...                  156           443\n",
              "2            494551877       zeentravel  ...                  247           246\n",
              "3            494551877       zeentravel  ...                  247           246\n",
              "4  1058682229168103427  YoyokSubandriy3  ...                 1672          1547\n",
              "\n",
              "[5 rows x 8 columns]"
            ]
          },
          "metadata": {
            "tags": []
          },
          "execution_count": 12
        }
      ]
    },
    {
      "cell_type": "markdown",
      "metadata": {
        "id": "ukYc5b2DnBVM"
      },
      "source": [
        "#Export as CSV"
      ]
    },
    {
      "cell_type": "code",
      "metadata": {
        "id": "8y93bm0e0I2R"
      },
      "source": [
        "df.to_csv(search_key+'_crawl.csv', encoding='utf-8', index=False) #Export as CSV"
      ],
      "execution_count": null,
      "outputs": []
    }
  ]
}